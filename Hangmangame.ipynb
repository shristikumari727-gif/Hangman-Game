{
 "cells": [
  {
   "cell_type": "code",
   "execution_count": 13,
   "id": "0ef4f2ee-6451-4927-8557-e908ca82948c",
   "metadata": {},
   "outputs": [
    {
     "name": "stdout",
     "output_type": "stream",
     "text": [
      "Word to guess: programming\n",
      "Initial guessed letters: []\n",
      "Incorrect guesses left: 6\n"
     ]
    }
   ],
   "source": [
    "import random\n",
    "\n",
    "words = [\"python\", \"hangman\", \"programming\", \"computer\", \"science\"]\n",
    "word_to_guess = random.choice(words)\n",
    "guessed_letters = []\n",
    "incorrect_guesses_left = 6\n",
    "\n",
    "print(f\"Word to guess: {word_to_guess}\")\n",
    "print(f\"Initial guessed letters: {guessed_letters}\")\n",
    "print(f\"Incorrect guesses left: {incorrect_guesses_left}\")"
   ]
  },
  {
   "cell_type": "code",
   "execution_count": 14,
   "id": "52e9123f-59c8-40ad-b72c-c398af11c6ee",
   "metadata": {},
   "outputs": [
    {
     "name": "stdout",
     "output_type": "stream",
     "text": [
      "_ _ _ _ _ _ _ _ _ _ _\n",
      "Guessed letters: \n"
     ]
    }
   ],
   "source": [
    "def display_game_state(word_to_guess, guessed_letters):\n",
    "    \"\"\"Displays the current state of the Hangman game.\"\"\"\n",
    "    display_word = \"\"\n",
    "    for letter in word_to_guess:\n",
    "        if letter in guessed_letters:\n",
    "            display_word += letter + \" \"\n",
    "        else:\n",
    "            display_word += \"_ \"\n",
    "    print(display_word.strip())\n",
    "    print(f\"Guessed letters: {', '.join(guessed_letters)}\")\n",
    "\n",
    "display_game_state(word_to_guess, guessed_letters)"
   ]
  },
  {
   "cell_type": "code",
   "execution_count": 15,
   "id": "ec0aed1a-e6fe-4b3c-ba86-d00d86161ccc",
   "metadata": {},
   "outputs": [],
   "source": [
    "def get_guess(guessed_letters):\n",
    "    \"\"\"Gets a valid letter guess from the player.\"\"\"\n",
    "    while True:\n",
    "        guess = input(\"Enter a letter guess: \").lower()\n",
    "        if len(guess) != 1 or not guess.isalpha():\n",
    "            print(\"Invalid input. Please enter a single letter.\")\n",
    "        elif guess in guessed_letters:\n",
    "            print(f\"You already guessed '{guess}'. Please try again.\")\n",
    "        else:\n",
    "            return guess\n"
   ]
  },
  {
   "cell_type": "code",
   "execution_count": 16,
   "id": "c1d1b313-0a4a-4034-b1ae-50e1233de154",
   "metadata": {},
   "outputs": [],
   "source": [
    "def check_guess(guess, word_to_guess, guessed_letters, incorrect_guesses_left):\n",
    "    \"\"\"Checks the guessed letter and updates the game state.\"\"\"\n",
    "    guessed_letters.append(guess)\n",
    "    if guess in word_to_guess:\n",
    "        print(f\"Good guess! '{guess}' is in the word.\")\n",
    "    else:\n",
    "        incorrect_guesses_left -= 1\n",
    "        print(f\"Sorry, '{guess}' is not in the word.\")\n",
    "        print(f\"You have {incorrect_guesses_left} incorrect guesses left.\")\n",
    "    return incorrect_guesses_left"
   ]
  },
  {
   "cell_type": "code",
   "execution_count": 17,
   "id": "3e00e15e-ac28-4720-a3c3-b10adcd0cd6b",
   "metadata": {},
   "outputs": [],
   "source": [
    "def check_win_or_lose(word_to_guess, guessed_letters, incorrect_guesses_left):\n",
    "    \"\"\"Checks if the player has won or lost.\"\"\"\n",
    "    if all(letter in guessed_letters for letter in word_to_guess):\n",
    "        print(\"Congratulations! You guessed the word!\")\n",
    "        return True\n",
    "    elif incorrect_guesses_left <= 0:\n",
    "        print(f\"You lost! The word was '{word_to_guess}'.\")\n",
    "        return True\n",
    "    else:\n",
    "        return False"
   ]
  },
  {
   "cell_type": "code",
   "execution_count": 18,
   "id": "03230d65-79e7-417e-b39a-df7c5c311cf0",
   "metadata": {},
   "outputs": [
    {
     "name": "stdout",
     "output_type": "stream",
     "text": [
      "_ _ _ _ _ _ _ _ _ _ _\n",
      "Guessed letters: \n"
     ]
    },
    {
     "name": "stdin",
     "output_type": "stream",
     "text": [
      "Enter a letter guess:  p\n"
     ]
    },
    {
     "name": "stdout",
     "output_type": "stream",
     "text": [
      "Good guess! 'p' is in the word.\n",
      "p _ _ _ _ _ _ _ _ _ _\n",
      "Guessed letters: p\n"
     ]
    },
    {
     "name": "stdin",
     "output_type": "stream",
     "text": [
      "Enter a letter guess:  r\n"
     ]
    },
    {
     "name": "stdout",
     "output_type": "stream",
     "text": [
      "Good guess! 'r' is in the word.\n",
      "p r _ _ r _ _ _ _ _ _\n",
      "Guessed letters: p, r\n"
     ]
    },
    {
     "name": "stdin",
     "output_type": "stream",
     "text": [
      "Enter a letter guess:  o\n"
     ]
    },
    {
     "name": "stdout",
     "output_type": "stream",
     "text": [
      "Good guess! 'o' is in the word.\n",
      "p r o _ r _ _ _ _ _ _\n",
      "Guessed letters: p, r, o\n"
     ]
    },
    {
     "name": "stdin",
     "output_type": "stream",
     "text": [
      "Enter a letter guess:  g\n"
     ]
    },
    {
     "name": "stdout",
     "output_type": "stream",
     "text": [
      "Good guess! 'g' is in the word.\n",
      "p r o g r _ _ _ _ _ g\n",
      "Guessed letters: p, r, o, g\n"
     ]
    },
    {
     "name": "stdin",
     "output_type": "stream",
     "text": [
      "Enter a letter guess:  r\n"
     ]
    },
    {
     "name": "stdout",
     "output_type": "stream",
     "text": [
      "You already guessed 'r'. Please try again.\n"
     ]
    },
    {
     "name": "stdin",
     "output_type": "stream",
     "text": [
      "Enter a letter guess:  a\n"
     ]
    },
    {
     "name": "stdout",
     "output_type": "stream",
     "text": [
      "Good guess! 'a' is in the word.\n",
      "p r o g r a _ _ _ _ g\n",
      "Guessed letters: p, r, o, g, a\n"
     ]
    },
    {
     "name": "stdin",
     "output_type": "stream",
     "text": [
      "Enter a letter guess:  m\n"
     ]
    },
    {
     "name": "stdout",
     "output_type": "stream",
     "text": [
      "Good guess! 'm' is in the word.\n",
      "p r o g r a m m _ _ g\n",
      "Guessed letters: p, r, o, g, a, m\n"
     ]
    },
    {
     "name": "stdin",
     "output_type": "stream",
     "text": [
      "Enter a letter guess:  m\n"
     ]
    },
    {
     "name": "stdout",
     "output_type": "stream",
     "text": [
      "You already guessed 'm'. Please try again.\n"
     ]
    },
    {
     "name": "stdin",
     "output_type": "stream",
     "text": [
      "Enter a letter guess:  i\n"
     ]
    },
    {
     "name": "stdout",
     "output_type": "stream",
     "text": [
      "Good guess! 'i' is in the word.\n",
      "p r o g r a m m i _ g\n",
      "Guessed letters: p, r, o, g, a, m, i\n"
     ]
    },
    {
     "name": "stdin",
     "output_type": "stream",
     "text": [
      "Enter a letter guess:  n\n"
     ]
    },
    {
     "name": "stdout",
     "output_type": "stream",
     "text": [
      "Good guess! 'n' is in the word.\n",
      "Congratulations! You guessed the word!\n"
     ]
    }
   ],
   "source": [
    "while not check_win_or_lose(word_to_guess, guessed_letters, incorrect_guesses_left):\n",
    "    display_game_state(word_to_guess, guessed_letters)\n",
    "    guess = get_guess(guessed_letters)\n",
    "    incorrect_guesses_left = check_guess(guess, word_to_guess, guessed_letters, incorrect_guesses_left)\n"
   ]
  }
 ],
 "metadata": {
  "kernelspec": {
   "display_name": "Python 3 (ipykernel)",
   "language": "python",
   "name": "python3"
  },
  "language_info": {
   "codemirror_mode": {
    "name": "ipython",
    "version": 3
   },
   "file_extension": ".py",
   "mimetype": "text/x-python",
   "name": "python",
   "nbconvert_exporter": "python",
   "pygments_lexer": "ipython3",
   "version": "3.13.5"
  }
 },
 "nbformat": 4,
 "nbformat_minor": 5
}
